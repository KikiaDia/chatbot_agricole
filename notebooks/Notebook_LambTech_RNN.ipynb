{
  "nbformat": 4,
  "nbformat_minor": 0,
  "metadata": {
    "colab": {
      "provenance": []
    },
    "kernelspec": {
      "name": "python3",
      "display_name": "Python 3"
    },
    "language_info": {
      "name": "python"
    }
  },
  "cells": [
    {
      "cell_type": "code",
      "execution_count": null,
      "metadata": {
        "id": "Q8GUyQe6rI4Y"
      },
      "outputs": [],
      "source": [
        "import tensorflow as tf\n",
        "from sklearn.preprocessing import OrdinalEncoder\n",
        "import joblib\n",
        "import pandas as pd\n",
        "import numpy as np\n",
        "from sklearn.model_selection import train_test_split\n",
        "from tensorflow.keras.layers import Dense, Bidirectional, LSTM"
      ]
    },
    {
      "cell_type": "code",
      "source": [
        "data = pd.read_csv(\"donnees_prix.csv\")"
      ],
      "metadata": {
        "id": "NngQWCCxrnUM"
      },
      "execution_count": null,
      "outputs": []
    },
    {
      "cell_type": "code",
      "source": [
        "def get_mois(date):\n",
        "  return int(date.split(\"/\")[0])\n",
        "def get_annee(date):\n",
        "  return int(date.split(\"/\")[1])\n",
        "def get_produit(text):\n",
        "  return text.upper()"
      ],
      "metadata": {
        "id": "ToMDdgGprnXC"
      },
      "execution_count": null,
      "outputs": []
    },
    {
      "cell_type": "code",
      "source": [
        "data[\"produits\"] = data[\"produits\"].apply(get_produit)\n",
        "data[\"mois\"] = data[\"date\"].apply(get_mois)\n",
        "data[\"annee\"] = data[\"date\"].apply(get_annee)"
      ],
      "metadata": {
        "id": "_eUJbxZjrnZu"
      },
      "execution_count": null,
      "outputs": []
    },
    {
      "cell_type": "markdown",
      "source": [
        "### Transform categorical columns and create sequences"
      ],
      "metadata": {
        "id": "fYrhXYk7sQqB"
      }
    },
    {
      "cell_type": "code",
      "source": [
        "encoder = OrdinalEncoder()\n",
        "encoder.fit(data[[\"produits\",\"regions\"]])\n",
        "\n",
        "data[[\"produits\",\"regions\"]] = encoder.transform(data[[\"produits\",\"regions\"]])\n",
        "\n",
        "data = data[[\"produits\",\"regions\",\"mois\",\"annee\",\"prix/KG\"]]"
      ],
      "metadata": {
        "id": "Lq3Ba0bNsUuV"
      },
      "execution_count": null,
      "outputs": []
    },
    {
      "cell_type": "code",
      "source": [
        "grouped = data.groupby([\"produits\", \"regions\"])"
      ],
      "metadata": {
        "id": "UNaOCF_Q3bEE"
      },
      "execution_count": null,
      "outputs": []
    },
    {
      "cell_type": "code",
      "source": [
        "def create_sequences(grouped):\n",
        "  X,y = [],[]\n",
        "  for group_name, grouped_df in grouped:\n",
        "    grouped_array = np.array(grouped_df, dtype=np.float32)\n",
        "    for i in range(len(grouped_array) - 1):\n",
        "      seq_x = grouped_array[i, :]\n",
        "      seq_y = grouped_array[i+1, -1]\n",
        "      X.append(seq_x)\n",
        "      y.append(seq_y)\n",
        "  return np.array(X, dtype=np.float32),np.array(y, dtype=np.float32)\n",
        "\n",
        "X, y = create_sequences(grouped)\n",
        "X = np.expand_dims(X, axis=1)\n",
        "X_train, X_test, y_train, y_test = train_test_split(X, y, test_size=.2, shuffle=True)"
      ],
      "metadata": {
        "id": "rvNBHRGHsl7y"
      },
      "execution_count": null,
      "outputs": []
    },
    {
      "cell_type": "markdown",
      "source": [
        "### Create and train model"
      ],
      "metadata": {
        "id": "vnSDOCgcyJAj"
      }
    },
    {
      "cell_type": "code",
      "source": [
        "model = tf.keras.Sequential()\n",
        "model.add(LSTM(96, input_shape=(X.shape[1], X.shape[2]), activation='relu'))\n",
        "model.add(Dense(1, activation=\"linear\"))\n",
        "\n",
        "model.compile(\n",
        "    optimizer=\"adam\",\n",
        "    loss=\"mae\",\n",
        "    metrics = ['mse', tf.keras.metrics.R2Score()]\n",
        ")"
      ],
      "metadata": {
        "id": "3qA9DWBexary"
      },
      "execution_count": null,
      "outputs": []
    },
    {
      "cell_type": "code",
      "source": [
        "model.fit(X_train, y_train, validation_split=.2, epochs=40, verbose=1)"
      ],
      "metadata": {
        "colab": {
          "base_uri": "https://localhost:8080/"
        },
        "id": "3_bRzSWBy3SR",
        "outputId": "384c4f34-8578-4669-e58d-9ae569d30ccd"
      },
      "execution_count": null,
      "outputs": [
        {
          "output_type": "stream",
          "name": "stdout",
          "text": [
            "Epoch 1/40\n",
            "281/281 [==============================] - 8s 12ms/step - loss: 78.4862 - mse: 21770.5801 - r2_score: 0.4849 - val_loss: 39.0410 - val_mse: 4691.6367 - val_r2_score: 0.8954\n",
            "Epoch 2/40\n",
            "281/281 [==============================] - 2s 7ms/step - loss: 35.6916 - mse: 4014.5466 - r2_score: 0.9050 - val_loss: 36.0926 - val_mse: 3885.2920 - val_r2_score: 0.9134\n",
            "Epoch 3/40\n",
            "281/281 [==============================] - 1s 4ms/step - loss: 33.6146 - mse: 3837.2688 - r2_score: 0.9092 - val_loss: 34.2897 - val_mse: 3998.4268 - val_r2_score: 0.9109\n",
            "Epoch 4/40\n",
            "281/281 [==============================] - 1s 4ms/step - loss: 33.5078 - mse: 3782.8623 - r2_score: 0.9105 - val_loss: 34.7747 - val_mse: 3648.8940 - val_r2_score: 0.9186\n",
            "Epoch 5/40\n",
            "281/281 [==============================] - 2s 7ms/step - loss: 32.6694 - mse: 3700.4487 - r2_score: 0.9125 - val_loss: 32.8217 - val_mse: 3749.0054 - val_r2_score: 0.9164\n",
            "Epoch 6/40\n",
            "281/281 [==============================] - 2s 7ms/step - loss: 32.2088 - mse: 3614.0454 - r2_score: 0.9145 - val_loss: 31.9859 - val_mse: 3725.0999 - val_r2_score: 0.9169\n",
            "Epoch 7/40\n",
            "281/281 [==============================] - 1s 4ms/step - loss: 32.1020 - mse: 3585.3457 - r2_score: 0.9152 - val_loss: 32.1941 - val_mse: 3620.1426 - val_r2_score: 0.9193\n",
            "Epoch 8/40\n",
            "281/281 [==============================] - 1s 4ms/step - loss: 31.6368 - mse: 3704.7354 - r2_score: 0.9124 - val_loss: 31.2463 - val_mse: 3701.0371 - val_r2_score: 0.9175\n",
            "Epoch 9/40\n",
            "281/281 [==============================] - 1s 5ms/step - loss: 31.1650 - mse: 3597.6904 - r2_score: 0.9149 - val_loss: 31.0412 - val_mse: 3627.0032 - val_r2_score: 0.9191\n",
            "Epoch 10/40\n",
            "281/281 [==============================] - 1s 4ms/step - loss: 30.9547 - mse: 3638.3081 - r2_score: 0.9139 - val_loss: 31.5949 - val_mse: 3695.0400 - val_r2_score: 0.9176\n",
            "Epoch 11/40\n",
            "281/281 [==============================] - 1s 4ms/step - loss: 30.4880 - mse: 3513.1934 - r2_score: 0.9169 - val_loss: 31.1595 - val_mse: 3509.6335 - val_r2_score: 0.9218\n",
            "Epoch 12/40\n",
            "281/281 [==============================] - 1s 4ms/step - loss: 30.1459 - mse: 3538.5493 - r2_score: 0.9163 - val_loss: 30.4699 - val_mse: 3575.1123 - val_r2_score: 0.9203\n",
            "Epoch 13/40\n",
            "281/281 [==============================] - 1s 4ms/step - loss: 29.7653 - mse: 3494.4783 - r2_score: 0.9173 - val_loss: 30.6591 - val_mse: 3517.7856 - val_r2_score: 0.9216\n",
            "Epoch 14/40\n",
            "281/281 [==============================] - 1s 4ms/step - loss: 29.7731 - mse: 3518.6799 - r2_score: 0.9168 - val_loss: 29.6640 - val_mse: 3522.6089 - val_r2_score: 0.9215\n",
            "Epoch 15/40\n",
            "281/281 [==============================] - 1s 5ms/step - loss: 29.8470 - mse: 3504.5999 - r2_score: 0.9171 - val_loss: 29.9268 - val_mse: 3507.4722 - val_r2_score: 0.9218\n",
            "Epoch 16/40\n",
            "281/281 [==============================] - 2s 6ms/step - loss: 29.9110 - mse: 3505.0417 - r2_score: 0.9171 - val_loss: 29.8667 - val_mse: 3548.4883 - val_r2_score: 0.9209\n",
            "Epoch 17/40\n",
            "281/281 [==============================] - 1s 5ms/step - loss: 29.9350 - mse: 3516.3889 - r2_score: 0.9168 - val_loss: 30.5813 - val_mse: 3489.9744 - val_r2_score: 0.9222\n",
            "Epoch 18/40\n",
            "281/281 [==============================] - 1s 4ms/step - loss: 29.7945 - mse: 3506.8630 - r2_score: 0.9170 - val_loss: 29.9082 - val_mse: 3493.1277 - val_r2_score: 0.9221\n",
            "Epoch 19/40\n",
            "281/281 [==============================] - 1s 3ms/step - loss: 29.5913 - mse: 3518.3789 - r2_score: 0.9168 - val_loss: 30.4685 - val_mse: 3495.2556 - val_r2_score: 0.9221\n",
            "Epoch 20/40\n",
            "281/281 [==============================] - 1s 3ms/step - loss: 29.6848 - mse: 3503.2607 - r2_score: 0.9171 - val_loss: 30.3560 - val_mse: 3553.3252 - val_r2_score: 0.9208\n",
            "Epoch 21/40\n",
            "281/281 [==============================] - 1s 3ms/step - loss: 29.6804 - mse: 3495.1956 - r2_score: 0.9173 - val_loss: 29.6980 - val_mse: 3519.1880 - val_r2_score: 0.9215\n",
            "Epoch 22/40\n",
            "281/281 [==============================] - 1s 4ms/step - loss: 29.7124 - mse: 3500.6775 - r2_score: 0.9172 - val_loss: 29.6406 - val_mse: 3518.7136 - val_r2_score: 0.9215\n",
            "Epoch 23/40\n",
            "281/281 [==============================] - 1s 4ms/step - loss: 29.7467 - mse: 3503.0125 - r2_score: 0.9171 - val_loss: 30.0756 - val_mse: 3541.9412 - val_r2_score: 0.9210\n",
            "Epoch 24/40\n",
            "281/281 [==============================] - 1s 3ms/step - loss: 29.6923 - mse: 3488.0918 - r2_score: 0.9175 - val_loss: 29.7059 - val_mse: 3522.9961 - val_r2_score: 0.9215\n",
            "Epoch 25/40\n",
            "281/281 [==============================] - 1s 4ms/step - loss: 29.6494 - mse: 3488.8989 - r2_score: 0.9175 - val_loss: 29.6293 - val_mse: 3511.9758 - val_r2_score: 0.9217\n",
            "Epoch 26/40\n",
            "281/281 [==============================] - 1s 4ms/step - loss: 29.7040 - mse: 3483.2336 - r2_score: 0.9176 - val_loss: 29.6886 - val_mse: 3516.7202 - val_r2_score: 0.9216\n",
            "Epoch 27/40\n",
            "281/281 [==============================] - 1s 5ms/step - loss: 29.6163 - mse: 3482.4858 - r2_score: 0.9176 - val_loss: 29.7224 - val_mse: 3505.1475 - val_r2_score: 0.9219\n",
            "Epoch 28/40\n",
            "281/281 [==============================] - 2s 6ms/step - loss: 29.4452 - mse: 3476.0317 - r2_score: 0.9178 - val_loss: 30.7817 - val_mse: 3570.8806 - val_r2_score: 0.9204\n",
            "Epoch 29/40\n",
            "281/281 [==============================] - 1s 5ms/step - loss: 29.7201 - mse: 3489.7539 - r2_score: 0.9174 - val_loss: 31.8281 - val_mse: 3524.5271 - val_r2_score: 0.9214\n",
            "Epoch 30/40\n",
            "281/281 [==============================] - 1s 4ms/step - loss: 29.6153 - mse: 3473.7102 - r2_score: 0.9178 - val_loss: 29.7452 - val_mse: 3526.0105 - val_r2_score: 0.9214\n",
            "Epoch 31/40\n",
            "281/281 [==============================] - 1s 4ms/step - loss: 29.6012 - mse: 3485.1880 - r2_score: 0.9175 - val_loss: 30.1579 - val_mse: 3547.2344 - val_r2_score: 0.9209\n",
            "Epoch 32/40\n",
            "281/281 [==============================] - 1s 4ms/step - loss: 29.5201 - mse: 3475.9299 - r2_score: 0.9178 - val_loss: 29.6900 - val_mse: 3510.6958 - val_r2_score: 0.9217\n",
            "Epoch 33/40\n",
            "281/281 [==============================] - 1s 3ms/step - loss: 29.6872 - mse: 3477.8689 - r2_score: 0.9177 - val_loss: 32.9374 - val_mse: 3697.2317 - val_r2_score: 0.9176\n",
            "Epoch 34/40\n",
            "281/281 [==============================] - 1s 3ms/step - loss: 29.7596 - mse: 3475.7791 - r2_score: 0.9178 - val_loss: 29.9395 - val_mse: 3536.0139 - val_r2_score: 0.9212\n",
            "Epoch 35/40\n",
            "281/281 [==============================] - 1s 4ms/step - loss: 29.5575 - mse: 3477.0142 - r2_score: 0.9177 - val_loss: 30.1281 - val_mse: 3495.4099 - val_r2_score: 0.9221\n",
            "Epoch 36/40\n",
            "281/281 [==============================] - 1s 4ms/step - loss: 29.5172 - mse: 3465.4756 - r2_score: 0.9180 - val_loss: 29.6538 - val_mse: 3520.1970 - val_r2_score: 0.9215\n",
            "Epoch 37/40\n",
            "281/281 [==============================] - 1s 3ms/step - loss: 29.8410 - mse: 3527.2969 - r2_score: 0.9165 - val_loss: 29.7523 - val_mse: 3504.4695 - val_r2_score: 0.9219\n",
            "Epoch 38/40\n",
            "281/281 [==============================] - 1s 4ms/step - loss: 29.7303 - mse: 3533.6111 - r2_score: 0.9164 - val_loss: 31.0424 - val_mse: 3503.9680 - val_r2_score: 0.9219\n",
            "Epoch 39/40\n",
            "281/281 [==============================] - 2s 7ms/step - loss: 29.7361 - mse: 3526.5649 - r2_score: 0.9166 - val_loss: 29.8800 - val_mse: 3498.6611 - val_r2_score: 0.9220\n",
            "Epoch 40/40\n",
            "281/281 [==============================] - 2s 6ms/step - loss: 29.6473 - mse: 3523.5972 - r2_score: 0.9166 - val_loss: 29.6783 - val_mse: 3510.8110 - val_r2_score: 0.9217\n"
          ]
        },
        {
          "output_type": "execute_result",
          "data": {
            "text/plain": [
              "<keras.src.callbacks.History at 0x78fdf1affe20>"
            ]
          },
          "metadata": {},
          "execution_count": 9
        }
      ]
    },
    {
      "cell_type": "code",
      "source": [
        "model.evaluate(X_test, y_test)"
      ],
      "metadata": {
        "colab": {
          "base_uri": "https://localhost:8080/"
        },
        "id": "0z0wFfH6zHcd",
        "outputId": "48b92545-f234-492f-8b82-0bc17133cc98"
      },
      "execution_count": null,
      "outputs": [
        {
          "output_type": "stream",
          "name": "stdout",
          "text": [
            "88/88 [==============================] - 0s 2ms/step - loss: 29.3161 - mse: 4102.7432 - r2_score: 0.8994\n"
          ]
        },
        {
          "output_type": "execute_result",
          "data": {
            "text/plain": [
              "[29.316146850585938, 4102.7431640625, 0.8994147181510925]"
            ]
          },
          "metadata": {},
          "execution_count": 10
        }
      ]
    },
    {
      "cell_type": "code",
      "source": [
        "model.save(\"price_prediction.h5\")\n",
        "joblib.dump(encoder, \"encoder.pkl\")"
      ],
      "metadata": {
        "colab": {
          "base_uri": "https://localhost:8080/"
        },
        "id": "nte6Jb2T0fJG",
        "outputId": "02f39279-9700-4284-a5c5-a632713bb97f"
      },
      "execution_count": null,
      "outputs": [
        {
          "output_type": "stream",
          "name": "stderr",
          "text": [
            "/usr/local/lib/python3.10/dist-packages/keras/src/engine/training.py:3103: UserWarning: You are saving your model as an HDF5 file via `model.save()`. This file format is considered legacy. We recommend using instead the native Keras format, e.g. `model.save('my_model.keras')`.\n",
            "  saving_api.save_model(\n"
          ]
        },
        {
          "output_type": "execute_result",
          "data": {
            "text/plain": [
              "['encoder.pkl']"
            ]
          },
          "metadata": {},
          "execution_count": 11
        }
      ]
    },
    {
      "cell_type": "code",
      "source": [
        "def predict(annee, mois, produit, region, prix):\n",
        "  series = pd.DataFrame({\n",
        "      \"produits\": [produit],\n",
        "      \"regions\": [region],\n",
        "      \"mois\": [mois],\n",
        "      \"annee\": [annee],\n",
        "      \"prix/KG\": [prix]\n",
        "  })\n",
        "  series[[\"produits\", \"regions\"]] = encoder.transform(series[[\"produits\",\"regions\"]])\n",
        "  X = np.array(series.values, dtype=np.float32)\n",
        "  X = np.expand_dims(X, axis=1)\n",
        "  results = model.predict(X)\n",
        "  return results\n",
        "\n",
        "var = predict(2024, 6, \"PATATE\", \"DAKAR\", 400)[0][0]"
      ],
      "metadata": {
        "colab": {
          "base_uri": "https://localhost:8080/"
        },
        "id": "cH6QQMnw1jK2",
        "outputId": "e5f9ba4b-f5c5-4145-b2d2-28984ebfdc54"
      },
      "execution_count": null,
      "outputs": [
        {
          "output_type": "stream",
          "name": "stdout",
          "text": [
            "1/1 [==============================] - 0s 218ms/step\n"
          ]
        }
      ]
    },
    {
      "cell_type": "code",
      "source": [
        "type(float(var.astype(np.float64)))"
      ],
      "metadata": {
        "colab": {
          "base_uri": "https://localhost:8080/"
        },
        "id": "SMmC-fFRNTg7",
        "outputId": "fc7c36fb-c0fa-4e76-a0e8-bae67120a68f"
      },
      "execution_count": null,
      "outputs": [
        {
          "output_type": "execute_result",
          "data": {
            "text/plain": [
              "float"
            ]
          },
          "metadata": {},
          "execution_count": 15
        }
      ]
    }
  ]
}